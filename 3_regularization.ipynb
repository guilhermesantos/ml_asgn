{
 "cells": [
  {
   "cell_type": "markdown",
   "metadata": {
    "colab_type": "text",
    "id": "kR-4eNdK6lYS"
   },
   "source": [
    "Deep Learning\n",
    "=============\n",
    "\n",
    "Assignment 3\n",
    "------------\n",
    "\n",
    "Previously in `2_fullyconnected.ipynb`, you trained a logistic regression and a neural network model.\n",
    "\n",
    "The goal of this assignment is to explore regularization techniques."
   ]
  },
  {
   "cell_type": "code",
   "execution_count": 1,
   "metadata": {
    "cellView": "both",
    "colab": {
     "autoexec": {
      "startup": false,
      "wait_interval": 0
     }
    },
    "colab_type": "code",
    "id": "JLpLa8Jt7Vu4"
   },
   "outputs": [],
   "source": [
    "# These are all the modules we'll be using later. Make sure you can import them\n",
    "# before proceeding further.\n",
    "from __future__ import print_function\n",
    "import numpy as np\n",
    "import tensorflow as tf\n",
    "from six.moves import cPickle as pickle"
   ]
  },
  {
   "cell_type": "markdown",
   "metadata": {
    "colab_type": "text",
    "id": "1HrCK6e17WzV"
   },
   "source": [
    "First reload the data we generated in `1_notmnist.ipynb`."
   ]
  },
  {
   "cell_type": "code",
   "execution_count": 2,
   "metadata": {
    "cellView": "both",
    "colab": {
     "autoexec": {
      "startup": false,
      "wait_interval": 0
     },
     "output_extras": [
      {
       "item_id": 1
      }
     ]
    },
    "colab_type": "code",
    "executionInfo": {
     "elapsed": 11777,
     "status": "ok",
     "timestamp": 1449849322348,
     "user": {
      "color": "",
      "displayName": "",
      "isAnonymous": false,
      "isMe": true,
      "permissionId": "",
      "photoUrl": "",
      "sessionId": "0",
      "userId": ""
     },
     "user_tz": 480
    },
    "id": "y3-cj1bpmuxc",
    "outputId": "e03576f1-ebbe-4838-c388-f1777bcc9873"
   },
   "outputs": [
    {
     "name": "stdout",
     "output_type": "stream",
     "text": [
      "Training set (200000, 28, 28) (200000,)\n",
      "Validation set (10000, 28, 28) (10000,)\n",
      "Test set (10000, 28, 28) (10000,)\n"
     ]
    }
   ],
   "source": [
    "pickle_file = 'notMNIST.pickle'\n",
    "\n",
    "with open(pickle_file, 'rb') as f:\n",
    "  save = pickle.load(f)\n",
    "  train_dataset = save['train_dataset']\n",
    "  train_labels = save['train_labels']\n",
    "  valid_dataset = save['valid_dataset']\n",
    "  valid_labels = save['valid_labels']\n",
    "  test_dataset = save['test_dataset']\n",
    "  test_labels = save['test_labels']\n",
    "  del save  # hint to help gc free up memory\n",
    "  print('Training set', train_dataset.shape, train_labels.shape)\n",
    "  print('Validation set', valid_dataset.shape, valid_labels.shape)\n",
    "  print('Test set', test_dataset.shape, test_labels.shape)"
   ]
  },
  {
   "cell_type": "markdown",
   "metadata": {
    "colab_type": "text",
    "id": "L7aHrm6nGDMB"
   },
   "source": [
    "Reformat into a shape that's more adapted to the models we're going to train:\n",
    "- data as a flat matrix,\n",
    "- labels as float 1-hot encodings."
   ]
  },
  {
   "cell_type": "code",
   "execution_count": 3,
   "metadata": {
    "cellView": "both",
    "colab": {
     "autoexec": {
      "startup": false,
      "wait_interval": 0
     },
     "output_extras": [
      {
       "item_id": 1
      }
     ]
    },
    "colab_type": "code",
    "executionInfo": {
     "elapsed": 11728,
     "status": "ok",
     "timestamp": 1449849322356,
     "user": {
      "color": "",
      "displayName": "",
      "isAnonymous": false,
      "isMe": true,
      "permissionId": "",
      "photoUrl": "",
      "sessionId": "0",
      "userId": ""
     },
     "user_tz": 480
    },
    "id": "IRSyYiIIGIzS",
    "outputId": "3f8996ee-3574-4f44-c953-5c8a04636582"
   },
   "outputs": [
    {
     "name": "stdout",
     "output_type": "stream",
     "text": [
      "Training set (200000, 784) (200000, 10)\n",
      "Validation set (10000, 784) (10000, 10)\n",
      "Test set (10000, 784) (10000, 10)\n"
     ]
    }
   ],
   "source": [
    "image_size = 28\n",
    "num_labels = 10\n",
    "\n",
    "def reformat(dataset, labels):\n",
    "  dataset = dataset.reshape((-1, image_size * image_size)).astype(np.float32)\n",
    "  # Map 1 to [0.0, 1.0, 0.0 ...], 2 to [0.0, 0.0, 1.0 ...]\n",
    "  labels = (np.arange(num_labels) == labels[:,None]).astype(np.float32)\n",
    "  return dataset, labels\n",
    "train_dataset, train_labels = reformat(train_dataset, train_labels)\n",
    "valid_dataset, valid_labels = reformat(valid_dataset, valid_labels)\n",
    "test_dataset, test_labels = reformat(test_dataset, test_labels)\n",
    "print('Training set', train_dataset.shape, train_labels.shape)\n",
    "print('Validation set', valid_dataset.shape, valid_labels.shape)\n",
    "print('Test set', test_dataset.shape, test_labels.shape)"
   ]
  },
  {
   "cell_type": "code",
   "execution_count": 4,
   "metadata": {
    "cellView": "both",
    "colab": {
     "autoexec": {
      "startup": false,
      "wait_interval": 0
     }
    },
    "colab_type": "code",
    "id": "RajPLaL_ZW6w"
   },
   "outputs": [],
   "source": [
    "def accuracy(predictions, labels):\n",
    "  return (100.0 * np.sum(np.argmax(predictions, 1) == np.argmax(labels, 1))\n",
    "          / predictions.shape[0])"
   ]
  },
  {
   "cell_type": "markdown",
   "metadata": {
    "colab_type": "text",
    "id": "sgLbUAQ1CW-1"
   },
   "source": [
    "---\n",
    "Problem 1\n",
    "---------\n",
    "\n",
    "Introduce and tune L2 regularization for both logistic and neural network models. Remember that L2 amounts to adding a penalty on the norm of the weights to the loss. In TensorFlow, you can compute the L2 loss for a tensor `t` using `nn.l2_loss(t)`. The right amount of regularization should improve your validation / test accuracy.\n",
    "\n",
    "---"
   ]
  },
  {
   "cell_type": "markdown",
   "metadata": {},
   "source": [
    "Logistic Regression"
   ]
  },
  {
   "cell_type": "code",
   "execution_count": 57,
   "metadata": {},
   "outputs": [],
   "source": [
    "batch_size = 128\n",
    "beta = 0.05\n",
    "num_steps = 10000\n",
    "train_subset = 50000\n",
    "\n",
    "graph = tf.Graph()\n",
    "\n",
    "with graph.as_default():\n",
    "    tf_train_batch = tf.placeholder(tf.float32, shape=(batch_size, image_size*image_size))\n",
    "    tf_train_labels = tf.placeholder(tf.float32, shape=(batch_size, num_labels))\n",
    "    \n",
    "    tf_test_set = tf.constant(test_dataset)\n",
    "    tf_valid_set = tf.constant(valid_dataset)\n",
    "    \n",
    "    tf_weights = tf.Variable(tf.truncated_normal([image_size*image_size, num_labels]))\n",
    "    tf_biases = tf.Variable(tf.truncated_normal([num_labels]))\n",
    "    tf_logits = tf.matmul(tf_train_batch, tf_weights) + tf_biases\n",
    "    \n",
    "    tf_old_loss = tf.reduce_mean(tf.nn.softmax_cross_entropy_with_logits(labels=tf_train_labels, logits=tf_logits))\n",
    "    tf_regularizer = tf.nn.l2_loss(tf_weights)  \n",
    "    tf_loss = tf.reduce_mean(tf_old_loss + beta * tf_regularizer)\n",
    "    \n",
    "    tf_optimizer = tf.train.GradientDescentOptimizer(0.05).minimize(tf_loss)\n",
    "                         \n",
    "    tf_train_prediction = tf.nn.softmax(tf_logits)\n",
    "    tf_valid_prediction = tf.nn.softmax(tf.matmul(tf_valid_set, tf_weights)+tf_biases)\n",
    "    tf_test_prediction = tf.nn.softmax(tf.matmul(tf_test_set, tf_weights)+tf_biases)"
   ]
  },
  {
   "cell_type": "code",
   "execution_count": 58,
   "metadata": {},
   "outputs": [
    {
     "name": "stdout",
     "output_type": "stream",
     "text": [
      "Minibatch loss at step 0: 167.539490\n",
      "Minibatch accuracy: 9.4%\n",
      "Validation accuracy: 9.1%\n",
      "Test accuracy: 8.9%\n",
      "\n",
      "\n",
      "Minibatch loss at step 2000: 0.944739\n",
      "Minibatch accuracy: 77.3%\n",
      "Validation accuracy: 80.7%\n",
      "Test accuracy: 87.8%\n",
      "\n",
      "\n",
      "Minibatch loss at step 4000: 0.791204\n",
      "Minibatch accuracy: 83.6%\n",
      "Validation accuracy: 80.8%\n",
      "Test accuracy: 88.0%\n",
      "\n",
      "\n",
      "Minibatch loss at step 6000: 0.843822\n",
      "Minibatch accuracy: 82.0%\n",
      "Validation accuracy: 81.1%\n",
      "Test accuracy: 88.0%\n",
      "\n",
      "\n",
      "Minibatch loss at step 8000: 1.086287\n",
      "Minibatch accuracy: 72.7%\n",
      "Validation accuracy: 81.0%\n",
      "Test accuracy: 88.0%\n",
      "\n",
      "\n"
     ]
    }
   ],
   "source": [
    "\n",
    "with tf.Session(graph=graph) as session:\n",
    "    tf.global_variables_initializer().run()\n",
    "    \n",
    "    for step in range(num_steps):\n",
    "        indexes = np.random.randint(low=0, high=train_subset, size=batch_size)\n",
    "        offset = (step * batch_size) % (train_labels.shape[0] - batch_size)\n",
    "        #batch_data = train_dataset[offset:(offset + batch_size), :]\n",
    "        #batch_labels = train_labels[offset:(offset + batch_size), :]\n",
    "        batch_data = train_dataset[indexes]\n",
    "        batch_labels = train_labels[indexes]\n",
    "        \n",
    "        f_dict = {tf_train_batch: batch_data, tf_train_labels : batch_labels}\n",
    "        _, l, train_pred = session.run([tf_optimizer, tf_loss, tf_train_prediction], feed_dict = f_dict)\n",
    "        \n",
    "        if(step % 2000 == 0):\n",
    "            print(\"Minibatch loss at step %d: %f\" % (step, l))\n",
    "            print(\"Minibatch accuracy: %.1f%%\" % accuracy(train_pred, batch_labels))\n",
    "            print(\"Validation accuracy: %.1f%%\" % accuracy(tf_valid_prediction.eval(), valid_labels))\n",
    "            print(\"Test accuracy: %.1f%%\" % accuracy(tf_test_prediction.eval(), test_labels))\n",
    "            print('\\n')"
   ]
  },
  {
   "cell_type": "markdown",
   "metadata": {},
   "source": [
    "Neural Network"
   ]
  },
  {
   "cell_type": "code",
   "execution_count": 53,
   "metadata": {},
   "outputs": [],
   "source": [
    "batch_size = 128\n",
    "beta = 0.05\n",
    "num_steps = 10000\n",
    "train_subset = 200000\n",
    "h_size = 1024"
   ]
  },
  {
   "cell_type": "code",
   "execution_count": 61,
   "metadata": {},
   "outputs": [],
   "source": [
    "graph = tf.Graph()\n",
    "\n",
    "with graph.as_default():\n",
    "    tf_train_d = tf.placeholder(tf.float32, shape=[batch_size, image_size*image_size])\n",
    "    tf_train_l = tf.placeholder(tf.float32, shape=[batch_size, num_labels])\n",
    "    \n",
    "    tf_valid_d = tf.constant(valid_dataset)\n",
    "    tf_test_d = tf.constant(test_dataset)\n",
    "    \n",
    "    #Layer 1\n",
    "    l1_w = tf.Variable(tf.truncated_normal([image_size*image_size, h_size]))\n",
    "    l1_b = tf.Variable(tf.zeros([h_size]))\n",
    "    \n",
    "    #Layer 2\n",
    "    l2_w = tf.Variable(tf.truncated_normal([h_size, num_labels]))\n",
    "    l2_b = tf.Variable(tf.zeros([num_labels]))\n",
    "    \n",
    "    #Training computation\n",
    "    relu_layer = tf.nn.relu(tf.matmul(tf_train_d, l1_w)+l1_b)\n",
    "    l2_out = tf.matmul(relu_layer, l2_w)+l2_b\n",
    "    \n",
    "    #Loss, regularization and optimization\n",
    "    tf_loss = tf.reduce_mean(tf.nn.softmax_cross_entropy_with_logits(labels=tf_train_l, logits=l2_out))\n",
    "    l1_regularizer = tf.nn.l2_loss(l1_w)\n",
    "    l2_regularizer = tf.nn.l2_loss(l2_w)\n",
    "    regularized_loss = tf_loss + beta*(l1_regularizer + l2_regularizer)\n",
    "    \n",
    "    optimizer = tf.train.GradientDescentOptimizer(0.05).minimize(regularized_loss)\n",
    "    \n",
    "    #Prediction outputs\n",
    "    g_train_pred = tf.nn.softmax(l2_out)\n",
    "    \n",
    "    #Validation computation\n",
    "    relu_layer = tf.nn.relu(tf.matmul(tf_valid_d, l1_w)+l1_b)\n",
    "    l2_out = tf.matmul(relu_layer, l2_w)+l2_b\n",
    "    g_valid_pred = tf.nn.softmax(l2_out)\n",
    "    \n",
    "    #Test computation\n",
    "    relu_layer = tf.nn.relu(tf.matmul(tf_test_d, l1_w)+l1_b)\n",
    "    l2_out = tf.matmul(relu_layer, l2_w)+l2_b\n",
    "    g_test_pred = tf.nn.softmax(l2_out)\n",
    "    "
   ]
  },
  {
   "cell_type": "code",
   "execution_count": 62,
   "metadata": {},
   "outputs": [
    {
     "name": "stdout",
     "output_type": "stream",
     "text": [
      "Minibatch loss at step 0: 16156.357422\n",
      "Minibatch accuracy: 9.4%\n",
      "Validation accuracy: 19.2%\n",
      "Test accuracy: 20.4%\n",
      "\n",
      "\n",
      "Minibatch loss at step 2000: 1.835971\n",
      "Minibatch accuracy: 76.6%\n",
      "Validation accuracy: 81.4%\n",
      "Test accuracy: 88.1%\n",
      "\n",
      "\n",
      "Minibatch loss at step 4000: 1.002996\n",
      "Minibatch accuracy: 84.4%\n",
      "Validation accuracy: 81.3%\n",
      "Test accuracy: 88.1%\n",
      "\n",
      "\n",
      "Minibatch loss at step 6000: 0.989386\n",
      "Minibatch accuracy: 84.4%\n",
      "Validation accuracy: 81.5%\n",
      "Test accuracy: 88.3%\n",
      "\n",
      "\n",
      "Minibatch loss at step 8000: 0.897653\n",
      "Minibatch accuracy: 88.3%\n",
      "Validation accuracy: 81.5%\n",
      "Test accuracy: 88.3%\n",
      "\n",
      "\n"
     ]
    }
   ],
   "source": [
    "\n",
    "with tf.Session(graph=graph) as session:\n",
    "    tf.global_variables_initializer().run()\n",
    "    \n",
    "    for step in range(num_steps):\n",
    "        indexes = np.random.randint(low=0, high=train_subset, size=batch_size)\n",
    "        batch_data = train_dataset[indexes]\n",
    "        batch_labels = train_labels[indexes]\n",
    "        \n",
    "        f_dict = {tf_train_d: batch_data, tf_train_l : batch_labels}\n",
    "        _, l, train_pred = session.run([optimizer, regularized_loss, g_train_pred], feed_dict = f_dict)\n",
    "        \n",
    "        if(step % 2000 == 0):\n",
    "            print(\"Minibatch loss at step %d: %f\" % (step, l))\n",
    "            print(\"Minibatch accuracy: %.1f%%\" % accuracy(train_pred, batch_labels))\n",
    "            print(\"Validation accuracy: %.1f%%\" % accuracy(g_valid_pred.eval(), valid_labels))\n",
    "            print(\"Test accuracy: %.1f%%\" % accuracy(g_test_pred.eval(), test_labels))\n",
    "            print('\\n')"
   ]
  },
  {
   "cell_type": "markdown",
   "metadata": {
    "colab_type": "text",
    "id": "na8xX2yHZzNF"
   },
   "source": [
    "---\n",
    "Problem 2\n",
    "---------\n",
    "Let's demonstrate an extreme case of overfitting. Restrict your training data to just a few batches. What happens?\n",
    "\n",
    "---"
   ]
  },
  {
   "cell_type": "code",
   "execution_count": 41,
   "metadata": {},
   "outputs": [
    {
     "name": "stdout",
     "output_type": "stream",
     "text": [
      "Minibatch loss at step 0: 168.229919\n",
      "Minibatch accuracy: 8.6%\n",
      "Validation accuracy: 9.4%\n",
      "\n",
      "\n",
      "Minibatch loss at step 1000: 1.488619\n",
      "Minibatch accuracy: 98.4%\n",
      "Validation accuracy: 72.7%\n",
      "\n",
      "\n",
      "Minibatch loss at step 2000: 0.533384\n",
      "Minibatch accuracy: 99.2%\n",
      "Validation accuracy: 74.5%\n",
      "\n",
      "\n",
      "Minibatch loss at step 3000: 0.525990\n",
      "Minibatch accuracy: 100.0%\n",
      "Validation accuracy: 74.5%\n",
      "\n",
      "\n",
      "Minibatch loss at step 4000: 0.524957\n",
      "Minibatch accuracy: 97.7%\n",
      "Validation accuracy: 74.2%\n",
      "\n",
      "\n",
      "Minibatch loss at step 5000: 0.564642\n",
      "Minibatch accuracy: 98.4%\n",
      "Validation accuracy: 74.5%\n",
      "\n",
      "\n",
      "Minibatch loss at step 6000: 0.544626\n",
      "Minibatch accuracy: 97.7%\n",
      "Validation accuracy: 74.1%\n",
      "\n",
      "\n",
      "Minibatch loss at step 7000: 0.547053\n",
      "Minibatch accuracy: 99.2%\n",
      "Validation accuracy: 74.3%\n",
      "\n",
      "\n",
      "Minibatch loss at step 8000: 0.526971\n",
      "Minibatch accuracy: 100.0%\n",
      "Validation accuracy: 74.5%\n",
      "\n",
      "\n",
      "Minibatch loss at step 9000: 0.555428\n",
      "Minibatch accuracy: 97.7%\n",
      "Validation accuracy: 74.3%\n",
      "\n",
      "\n"
     ]
    }
   ],
   "source": [
    "batch_size = 128\n",
    "beta = 0.05\n",
    "num_steps = 10000\n",
    "train_subset = 50000\n",
    "train_subset = 300\n",
    "\n",
    "with tf.Session(graph=graph) as session:\n",
    "    tf.global_variables_initializer().run()\n",
    "    \n",
    "    for step in range(num_steps):\n",
    "        indexes = np.random.randint(low=0, high=train_subset, size=batch_size)\n",
    "        offset = (step * batch_size) % (train_labels.shape[0] - batch_size)\n",
    "        #batch_data = train_dataset[offset:(offset + batch_size), :]\n",
    "        #batch_labels = train_labels[offset:(offset + batch_size), :]\n",
    "        batch_data = train_dataset[indexes]\n",
    "        batch_labels = train_labels[indexes]\n",
    "        \n",
    "        f_dict = {tf_train_batch: batch_data, tf_train_labels : batch_labels}\n",
    "        _, l, train_pred = session.run([tf_optimizer, tf_loss, tf_train_prediction], feed_dict = f_dict)\n",
    "        \n",
    "        if(step % 1000 == 0):\n",
    "            print(\"Minibatch loss at step %d: %f\" % (step, l))\n",
    "            print(\"Minibatch accuracy: %.1f%%\" % accuracy(train_pred, batch_labels))\n",
    "            print(\"Validation accuracy: %.1f%%\" % accuracy(tf_valid_prediction.eval(), valid_labels))\n",
    "            print(\"Test accuracy: %.1f%%\" % accuracy(g_test_pred.eval(), test_labels))\n",
    "            print('\\n')"
   ]
  },
  {
   "cell_type": "markdown",
   "metadata": {
    "colab_type": "text",
    "id": "ww3SCBUdlkRc"
   },
   "source": [
    "---\n",
    "Problem 3\n",
    "---------\n",
    "Introduce Dropout on the hidden layer of the neural network. Remember: Dropout should only be introduced during training, not evaluation, otherwise your evaluation results would be stochastic as well. TensorFlow provides `nn.dropout()` for that, but you have to make sure it's only inserted during training.\n",
    "\n",
    "What happens to our extreme overfitting case?\n",
    "\n",
    "---"
   ]
  },
  {
   "cell_type": "code",
   "execution_count": 90,
   "metadata": {},
   "outputs": [],
   "source": [
    "batch_size = 128\n",
    "beta = 0.05\n",
    "num_steps = 3001\n",
    "print_period = 1000\n",
    "train_subset = 200000\n",
    "hidden_size = 1024\n",
    "decaying_learning_rate = False"
   ]
  },
  {
   "cell_type": "code",
   "execution_count": 91,
   "metadata": {},
   "outputs": [],
   "source": [
    "graph = tf.Graph()\n",
    "\n",
    "with graph.as_default():\n",
    "    x = tf.placeholder(tf.float32, shape=[batch_size, image_size*image_size])\n",
    "    y = tf.placeholder(tf.float32, shape=[batch_size, num_labels])\n",
    "    dropout_keep_prob = tf.placeholder(tf.float32)\n",
    "    \n",
    "    v_x = tf.constant(valid_dataset)\n",
    "    t_x = tf.constant(test_dataset)\n",
    "    \n",
    "    #Hidden layer\n",
    "    w1 = tf.Variable(tf.truncated_normal([image_size*image_size, hidden_size]))\n",
    "    b1 = tf.Variable(tf.zeros([hidden_size]))\n",
    "    \n",
    "    #Output layer\n",
    "    w2 = tf.Variable(tf.truncated_normal([hidden_size, num_labels]))\n",
    "    b2 = tf.Variable(tf.zeros([num_labels]))\n",
    "    \n",
    "    #Training computation\n",
    "    #Computes dropout connections\n",
    "    relu_layer = tf.nn.relu(tf.matmul(x, w1) + b1)\n",
    "    relu_dropout = tf.nn.dropout(relu_layer, dropout_keep_prob)\n",
    "    logits = tf.matmul(relu_dropout, w2)+b2\n",
    "    \n",
    "    #Loss and regularization\n",
    "    loss = tf.reduce_mean(tf.nn.softmax_cross_entropy_with_logits(labels=y, logits=logits))\n",
    "    l1_reg = tf.nn.l2_loss(w1)\n",
    "    l2_reg = tf.nn.l2_loss(w2)\n",
    "    reg_loss = loss + beta * (l1_reg + l2_reg)\n",
    "    \n",
    "    if(decaying_learning_rate):\n",
    "        global_step = tf.Variable(0)\n",
    "        initial_learning_rate = 0.5\n",
    "        learning_rate = tf.train.exponential_decay(initial_learning_rate, global_step, 100000, 0.96, staircase=True)\n",
    "        optimizer = tf.train.GradientDescentOptimizer(learning_rate).minimize(reg_loss, global_step=global_step)\n",
    "    else:\n",
    "        optimizer = tf.train.GradientDescentOptimizer(0.05).minimize(loss)\n",
    "    \n",
    "    #Training predictions\n",
    "    train_y = tf.nn.softmax(logits)\n",
    "    \n",
    "    #Validation predictions\n",
    "    relu_layer = tf.nn.relu(tf.matmul(v_x, w1)+b1)\n",
    "    logits = tf.matmul(relu_layer, w2)+b2\n",
    "    val_y = tf.nn.softmax(logits)\n",
    "    \n",
    "    #Testing predictions\n",
    "    relu_layer = tf.nn.relu(tf.matmul(t_x, w1)+b1)\n",
    "    logits = tf.matmul(relu_layer, w2)+b2\n",
    "    test_y = tf.nn.softmax(logits)"
   ]
  },
  {
   "cell_type": "code",
   "execution_count": 92,
   "metadata": {},
   "outputs": [
    {
     "name": "stdout",
     "output_type": "stream",
     "text": [
      "Minibatch loss at step 0: 16176.153320\n",
      "Minibatch accuracy: 6.2%\n",
      "Validation accuracy: 24.6%\n",
      "Testing accuracy: 26.5%\n",
      "\n",
      "\n",
      "Minibatch loss at step 1000: 15507.916992\n",
      "Minibatch accuracy: 80.5%\n",
      "Validation accuracy: 83.0%\n",
      "Testing accuracy: 90.4%\n",
      "\n",
      "\n",
      "Minibatch loss at step 2000: 15415.918945\n",
      "Minibatch accuracy: 79.7%\n",
      "Validation accuracy: 83.4%\n",
      "Testing accuracy: 90.5%\n",
      "\n",
      "\n",
      "Minibatch loss at step 3000: 15365.236328\n",
      "Minibatch accuracy: 77.3%\n",
      "Validation accuracy: 83.5%\n",
      "Testing accuracy: 90.9%\n",
      "\n",
      "\n"
     ]
    }
   ],
   "source": [
    "with tf.Session(graph=graph) as session:\n",
    "    tf.global_variables_initializer().run()\n",
    "    \n",
    "    for step in range(num_steps):\n",
    "        indexes = np.random.randint(low=0, high=train_subset, size=batch_size)\n",
    "\n",
    "        batch_data = train_dataset[indexes]\n",
    "        batch_labels = train_labels[indexes]\n",
    "        \n",
    "        f_dict = {x: batch_data, y : batch_labels, dropout_keep_prob : 0.5}\n",
    "        _, l, train_pred = session.run([optimizer, reg_loss, train_y], feed_dict = f_dict)\n",
    "        \n",
    "        if(step % print_period == 0):\n",
    "            print(\"Minibatch loss at step %d: %f\" % (step, l))\n",
    "            print(\"Minibatch accuracy: %.1f%%\" % accuracy(train_pred, batch_labels))\n",
    "            print(\"Validation accuracy: %.1f%%\" % accuracy(val_y.eval(), valid_labels))\n",
    "            print(\"Testing accuracy: %.1f%%\" % accuracy(test_y.eval(), test_labels))\n",
    "            print('\\n')"
   ]
  },
  {
   "cell_type": "markdown",
   "metadata": {
    "colab_type": "text",
    "id": "-b1hTz3VWZjw"
   },
   "source": [
    "---\n",
    "Problem 4\n",
    "---------\n",
    "\n",
    "Try to get the best performance you can using a multi-layer model! The best reported test accuracy using a deep network is [97.1%](http://yaroslavvb.blogspot.com/2011/09/notmnist-dataset.html?showComment=1391023266211#c8758720086795711595).\n",
    "\n",
    "One avenue you can explore is to add multiple layers.\n",
    "\n",
    "Another one is to use learning rate decay:\n",
    "\n",
    "    global_step = tf.Variable(0)  # count the number of steps taken.\n",
    "    learning_rate = tf.train.exponential_decay(0.5, global_step, ...)\n",
    "    optimizer = tf.train.GradientDescentOptimizer(learning_rate).minimize(loss, global_step=global_step)\n",
    " \n",
    " ---\n"
   ]
  },
  {
   "cell_type": "code",
   "execution_count": null,
   "metadata": {},
   "outputs": [],
   "source": []
  }
 ],
 "metadata": {
  "colab": {
   "default_view": {},
   "name": "3_regularization.ipynb",
   "provenance": [],
   "version": "0.3.2",
   "views": {}
  },
  "kernelspec": {
   "display_name": "Python 3",
   "language": "python",
   "name": "python3"
  },
  "language_info": {
   "codemirror_mode": {
    "name": "ipython",
    "version": 3
   },
   "file_extension": ".py",
   "mimetype": "text/x-python",
   "name": "python",
   "nbconvert_exporter": "python",
   "pygments_lexer": "ipython3",
   "version": "3.6.5"
  }
 },
 "nbformat": 4,
 "nbformat_minor": 1
}
